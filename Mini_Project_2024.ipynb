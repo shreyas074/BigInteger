{
  "nbformat": 4,
  "nbformat_minor": 0,
  "metadata": {
    "colab": {
      "provenance": [],
      "gpuType": "T4",
      "authorship_tag": "ABX9TyOn8hgNPFngFjFipnvq9JRZ",
      "include_colab_link": true
    },
    "kernelspec": {
      "name": "python3",
      "display_name": "Python 3"
    },
    "language_info": {
      "name": "python"
    },
    "accelerator": "GPU"
  },
  "cells": [
    {
      "cell_type": "markdown",
      "metadata": {
        "id": "view-in-github",
        "colab_type": "text"
      },
      "source": [
        "<a href=\"https://colab.research.google.com/github/shreyas074/BigInteger/blob/main/Mini_Project_2024.ipynb\" target=\"_parent\"><img src=\"https://colab.research.google.com/assets/colab-badge.svg\" alt=\"Open In Colab\"/></a>"
      ]
    },
    {
      "cell_type": "markdown",
      "source": [],
      "metadata": {
        "id": "aMsY9Bk4W3-k"
      }
    },
    {
      "cell_type": "code",
      "source": [
        "!mkdir -p ~/.kaggle\n",
        "!cp kaggle.json ~/.kaggle/"
      ],
      "metadata": {
        "id": "pAcEQ1bPXXRh"
      },
      "execution_count": 1,
      "outputs": []
    },
    {
      "cell_type": "code",
      "source": [
        "!kaggle datasets download -d nodoubttome/skin-cancer9-classesisic"
      ],
      "metadata": {
        "colab": {
          "base_uri": "https://localhost:8080/"
        },
        "id": "k1Xu7kW_XW-5",
        "outputId": "024eb874-54a1-4a8a-b8e9-7d09a294a1e5"
      },
      "execution_count": 2,
      "outputs": [
        {
          "output_type": "stream",
          "name": "stdout",
          "text": [
            "Warning: Your Kaggle API key is readable by other users on this system! To fix this, you can run 'chmod 600 /root/.kaggle/kaggle.json'\n",
            "Dataset URL: https://www.kaggle.com/datasets/nodoubttome/skin-cancer9-classesisic\n",
            "License(s): other\n",
            "Downloading skin-cancer9-classesisic.zip to /content\n",
            " 99% 780M/786M [00:06<00:00, 60.4MB/s]\n",
            "100% 786M/786M [00:06<00:00, 124MB/s] \n"
          ]
        }
      ]
    },
    {
      "cell_type": "code",
      "source": [
        "import zipfile\n",
        "zip_ref = zipfile.ZipFile('/content/skin-cancer9-classesisic.zip','r')\n",
        "zip_ref.extractall('/content')\n",
        "zip_ref.close()"
      ],
      "metadata": {
        "id": "CK57J6NMX0RG"
      },
      "execution_count": 3,
      "outputs": []
    },
    {
      "cell_type": "markdown",
      "source": [
        "IMPORTING LIBRARIES"
      ],
      "metadata": {
        "id": "dVW_qB25ZNAi"
      }
    },
    {
      "cell_type": "code",
      "execution_count": 53,
      "metadata": {
        "id": "i_JTbq6iWqFb"
      },
      "outputs": [],
      "source": [
        "import tensorflow as tf\n",
        "from keras.layers import Input, Lambda, Dense, Flatten\n",
        "import matplotlib.pyplot as plt\n",
        "from keras.models import Model\n",
        "from keras.applications.vgg16 import VGG16\n",
        "from keras.preprocessing import image\n",
        "from keras.preprocessing.image import ImageDataGenerator,load_img\n",
        "from keras.applications.resnet import preprocess_input\n",
        "from keras.models import Sequential\n",
        "from keras.layers import Conv2D, MaxPooling2D, Dense, Flatten, BatchNormalization, Dropout\n",
        "from keras.optimizers import Adam\n",
        "from keras import activations\n",
        "import numpy as np\n",
        "from glob import glob"
      ]
    },
    {
      "cell_type": "markdown",
      "source": [
        "RESIZING ALL IMAGES"
      ],
      "metadata": {
        "id": "7nRfSGlwW7rt"
      }
    },
    {
      "cell_type": "code",
      "source": [
        "IMAGE_SIZE = [224, 224]"
      ],
      "metadata": {
        "id": "AJY98HSLXBHE"
      },
      "execution_count": 54,
      "outputs": []
    },
    {
      "cell_type": "markdown",
      "source": [
        "SETTING TRAINING AND VALIDATION PATH"
      ],
      "metadata": {
        "id": "Il6im1MLXFCB"
      }
    },
    {
      "cell_type": "code",
      "source": [
        "train_path = '/content/Skin cancer ISIC The International Skin Imaging Collaboration/Train'\n",
        "valid_path = '/content/Skin cancer ISIC The International Skin Imaging Collaboration/Test'"
      ],
      "metadata": {
        "id": "mRYBBl4uXLX3"
      },
      "execution_count": 55,
      "outputs": []
    },
    {
      "cell_type": "markdown",
      "source": [
        "IMPORTING VGG16"
      ],
      "metadata": {
        "id": "IhTPkK_9aHo6"
      }
    },
    {
      "cell_type": "code",
      "source": [
        "vgg16 = VGG16(input_shape=IMAGE_SIZE + [3], weights='imagenet', include_top=False)"
      ],
      "metadata": {
        "id": "b0n6pVqnaHEp"
      },
      "execution_count": 56,
      "outputs": []
    },
    {
      "cell_type": "code",
      "source": [
        "for layer in vgg16.layers:\n",
        "    layer.trainable = False"
      ],
      "metadata": {
        "id": "XtmYLweqeMLo"
      },
      "execution_count": 57,
      "outputs": []
    },
    {
      "cell_type": "code",
      "source": [
        "folders=glob('/content/Skin cancer ISIC The International Skin Imaging Collaboration/Train/*')\n"
      ],
      "metadata": {
        "id": "1BpPKlwyfGmP"
      },
      "execution_count": 58,
      "outputs": []
    },
    {
      "cell_type": "code",
      "source": [
        "folders"
      ],
      "metadata": {
        "colab": {
          "base_uri": "https://localhost:8080/"
        },
        "id": "zj3gvuLshTfu",
        "outputId": "36bb0f83-add1-4920-c198-bdf867d7543e"
      },
      "execution_count": 59,
      "outputs": [
        {
          "output_type": "execute_result",
          "data": {
            "text/plain": [
              "['/content/Skin cancer ISIC The International Skin Imaging Collaboration/Train/melanoma',\n",
              " '/content/Skin cancer ISIC The International Skin Imaging Collaboration/Train/seborrheic keratosis',\n",
              " '/content/Skin cancer ISIC The International Skin Imaging Collaboration/Train/pigmented benign keratosis',\n",
              " '/content/Skin cancer ISIC The International Skin Imaging Collaboration/Train/nevus',\n",
              " '/content/Skin cancer ISIC The International Skin Imaging Collaboration/Train/vascular lesion',\n",
              " '/content/Skin cancer ISIC The International Skin Imaging Collaboration/Train/basal cell carcinoma',\n",
              " '/content/Skin cancer ISIC The International Skin Imaging Collaboration/Train/squamous cell carcinoma',\n",
              " '/content/Skin cancer ISIC The International Skin Imaging Collaboration/Train/actinic keratosis',\n",
              " '/content/Skin cancer ISIC The International Skin Imaging Collaboration/Train/dermatofibroma']"
            ]
          },
          "metadata": {},
          "execution_count": 59
        }
      ]
    },
    {
      "cell_type": "code",
      "source": [
        "x = Flatten()(vgg16.output)\n",
        "len(folders)"
      ],
      "metadata": {
        "colab": {
          "base_uri": "https://localhost:8080/"
        },
        "id": "IIZckbLciIK6",
        "outputId": "a13b0425-6ce6-45a4-b65f-38f7dddadc15"
      },
      "execution_count": 60,
      "outputs": [
        {
          "output_type": "execute_result",
          "data": {
            "text/plain": [
              "9"
            ]
          },
          "metadata": {},
          "execution_count": 60
        }
      ]
    },
    {
      "cell_type": "markdown",
      "source": [],
      "metadata": {
        "id": "znAD5mt1eLEu"
      }
    },
    {
      "cell_type": "code",
      "source": [
        "model = Sequential()\n",
        "model.add(vgg16)\n",
        "model.add(BatchNormalization())\n",
        "model.add(MaxPooling2D((2, 2)))\n",
        "model.add(Flatten())\n",
        "model.add(Dense(1024, activation='relu'))\n",
        "model.add(Dropout(0.3))\n",
        "model.add(Dense(512, activation='relu'))\n",
        "model.add(Dropout(0.3))\n",
        "model.add(Dense(256, activation='relu'))\n",
        "model.add(Dense(128, activation='relu'))\n",
        "model.add(Dense(9, activation='softmax'))"
      ],
      "metadata": {
        "id": "DBWJjJyHmo-h"
      },
      "execution_count": 75,
      "outputs": []
    },
    {
      "cell_type": "code",
      "source": [
        "model.summary()"
      ],
      "metadata": {
        "colab": {
          "base_uri": "https://localhost:8080/"
        },
        "id": "RD56TOypn0Qo",
        "outputId": "49ab8f3c-e719-461c-a856-a4dbbc3bbcba"
      },
      "execution_count": 76,
      "outputs": [
        {
          "output_type": "stream",
          "name": "stdout",
          "text": [
            "Model: \"sequential_4\"\n",
            "_________________________________________________________________\n",
            " Layer (type)                Output Shape              Param #   \n",
            "=================================================================\n",
            " vgg16 (Functional)          (None, 7, 7, 512)         14714688  \n",
            "                                                                 \n",
            " batch_normalization_4 (Bat  (None, 7, 7, 512)         2048      \n",
            " chNormalization)                                                \n",
            "                                                                 \n",
            " max_pooling2d_6 (MaxPoolin  (None, 3, 3, 512)         0         \n",
            " g2D)                                                            \n",
            "                                                                 \n",
            " flatten_7 (Flatten)         (None, 4608)              0         \n",
            "                                                                 \n",
            " dense_21 (Dense)            (None, 1024)              4719616   \n",
            "                                                                 \n",
            " dropout_9 (Dropout)         (None, 1024)              0         \n",
            "                                                                 \n",
            " dense_22 (Dense)            (None, 512)               524800    \n",
            "                                                                 \n",
            " dropout_10 (Dropout)        (None, 512)               0         \n",
            "                                                                 \n",
            " dense_23 (Dense)            (None, 256)               131328    \n",
            "                                                                 \n",
            " dense_24 (Dense)            (None, 128)               32896     \n",
            "                                                                 \n",
            " dense_25 (Dense)            (None, 9)                 1161      \n",
            "                                                                 \n",
            "=================================================================\n",
            "Total params: 20126537 (76.78 MB)\n",
            "Trainable params: 5410825 (20.64 MB)\n",
            "Non-trainable params: 14715712 (56.14 MB)\n",
            "_________________________________________________________________\n"
          ]
        }
      ]
    },
    {
      "cell_type": "code",
      "source": [
        "model.compile(\n",
        "  loss='categorical_crossentropy',\n",
        "  optimizer='adam',\n",
        "  metrics=['accuracy'],\n",
        "  run_eagerly=True\n",
        ")\n"
      ],
      "metadata": {
        "id": "h5kC1eyNoOvY"
      },
      "execution_count": 77,
      "outputs": []
    },
    {
      "cell_type": "code",
      "source": [
        "from keras.preprocessing.image import ImageDataGenerator\n",
        "\n",
        "train_datagen = ImageDataGenerator(rescale = 1./255,\n",
        "                                   shear_range = 0.2,\n",
        "                                   zoom_range = 0.2,\n",
        "                                   horizontal_flip = True)\n",
        "\n",
        "test_datagen = ImageDataGenerator(rescale = 1./255)"
      ],
      "metadata": {
        "id": "kYts5rYpqMdB"
      },
      "execution_count": 78,
      "outputs": []
    },
    {
      "cell_type": "code",
      "source": [
        "training_set = train_datagen.flow_from_directory('/content/Skin cancer ISIC The International Skin Imaging Collaboration/Train',\n",
        "                                                 target_size = (224, 224),\n",
        "                                                 batch_size = 32,\n",
        "                                                 class_mode = 'categorical')\n",
        "\n",
        "test_set = test_datagen.flow_from_directory('/content/Skin cancer ISIC The International Skin Imaging Collaboration/Test',\n",
        "                                            target_size = (224, 224),\n",
        "                                            batch_size = 32,\n",
        "                                            class_mode = 'categorical')"
      ],
      "metadata": {
        "colab": {
          "base_uri": "https://localhost:8080/"
        },
        "id": "pVe7o1z0qUne",
        "outputId": "b9c46ab9-5d17-4eb9-da1d-5160d20060db"
      },
      "execution_count": 79,
      "outputs": [
        {
          "output_type": "stream",
          "name": "stdout",
          "text": [
            "Found 2239 images belonging to 9 classes.\n",
            "Found 118 images belonging to 9 classes.\n"
          ]
        }
      ]
    },
    {
      "cell_type": "code",
      "source": [
        "history = model.fit_generator(\n",
        "  training_set,\n",
        "  validation_data=test_set,\n",
        "  epochs=20,\n",
        "  steps_per_epoch=len(training_set),\n",
        "  validation_steps=len(test_set)\n",
        ")\n",
        ""
      ],
      "metadata": {
        "colab": {
          "base_uri": "https://localhost:8080/"
        },
        "id": "70qu7uGdqZIO",
        "outputId": "82e9a51c-381b-4795-d1b1-9f3b30abbb15"
      },
      "execution_count": 80,
      "outputs": [
        {
          "output_type": "stream",
          "name": "stderr",
          "text": [
            "<ipython-input-80-ce52b4c29017>:1: UserWarning: `Model.fit_generator` is deprecated and will be removed in a future version. Please use `Model.fit`, which supports generators.\n",
            "  history = model.fit_generator(\n"
          ]
        },
        {
          "output_type": "stream",
          "name": "stdout",
          "text": [
            "Epoch 1/20\n",
            "70/70 [==============================] - 64s 885ms/step - loss: 1.9894 - accuracy: 0.2921 - val_loss: 2.0062 - val_accuracy: 0.2034\n",
            "Epoch 2/20\n",
            "70/70 [==============================] - 62s 871ms/step - loss: 1.6323 - accuracy: 0.4118 - val_loss: 1.8043 - val_accuracy: 0.3814\n",
            "Epoch 3/20\n",
            "70/70 [==============================] - 61s 873ms/step - loss: 1.4924 - accuracy: 0.4551 - val_loss: 1.7691 - val_accuracy: 0.2881\n",
            "Epoch 4/20\n",
            "70/70 [==============================] - 62s 879ms/step - loss: 1.3682 - accuracy: 0.5011 - val_loss: 1.6220 - val_accuracy: 0.4153\n",
            "Epoch 5/20\n",
            "70/70 [==============================] - 62s 875ms/step - loss: 1.2906 - accuracy: 0.5346 - val_loss: 1.7481 - val_accuracy: 0.3475\n",
            "Epoch 6/20\n",
            "70/70 [==============================] - 62s 887ms/step - loss: 1.2044 - accuracy: 0.5681 - val_loss: 1.7530 - val_accuracy: 0.3559\n",
            "Epoch 7/20\n",
            "70/70 [==============================] - 62s 880ms/step - loss: 1.1366 - accuracy: 0.5837 - val_loss: 1.6136 - val_accuracy: 0.3983\n",
            "Epoch 8/20\n",
            "70/70 [==============================] - 62s 880ms/step - loss: 1.0814 - accuracy: 0.6052 - val_loss: 1.6600 - val_accuracy: 0.4661\n",
            "Epoch 9/20\n",
            "70/70 [==============================] - 62s 885ms/step - loss: 1.0434 - accuracy: 0.6338 - val_loss: 2.1281 - val_accuracy: 0.3559\n",
            "Epoch 10/20\n",
            "70/70 [==============================] - 62s 886ms/step - loss: 0.9582 - accuracy: 0.6445 - val_loss: 1.9543 - val_accuracy: 0.4237\n",
            "Epoch 11/20\n",
            "70/70 [==============================] - 62s 880ms/step - loss: 0.9302 - accuracy: 0.6632 - val_loss: 1.9612 - val_accuracy: 0.4237\n",
            "Epoch 12/20\n",
            "70/70 [==============================] - 62s 873ms/step - loss: 0.8990 - accuracy: 0.6735 - val_loss: 1.9966 - val_accuracy: 0.4237\n",
            "Epoch 13/20\n",
            "70/70 [==============================] - 62s 880ms/step - loss: 0.8625 - accuracy: 0.6869 - val_loss: 2.0825 - val_accuracy: 0.4407\n",
            "Epoch 14/20\n",
            "70/70 [==============================] - 62s 877ms/step - loss: 0.7747 - accuracy: 0.7097 - val_loss: 2.0644 - val_accuracy: 0.4153\n",
            "Epoch 15/20\n",
            "70/70 [==============================] - 61s 868ms/step - loss: 0.7868 - accuracy: 0.7182 - val_loss: 2.4252 - val_accuracy: 0.3898\n",
            "Epoch 16/20\n",
            "70/70 [==============================] - 62s 876ms/step - loss: 0.7769 - accuracy: 0.7168 - val_loss: 2.1894 - val_accuracy: 0.4915\n",
            "Epoch 17/20\n",
            "70/70 [==============================] - 62s 877ms/step - loss: 0.7249 - accuracy: 0.7177 - val_loss: 2.1741 - val_accuracy: 0.4915\n",
            "Epoch 18/20\n",
            "70/70 [==============================] - 62s 876ms/step - loss: 0.6627 - accuracy: 0.7481 - val_loss: 2.2228 - val_accuracy: 0.4915\n",
            "Epoch 19/20\n",
            "70/70 [==============================] - 61s 872ms/step - loss: 0.6795 - accuracy: 0.7508 - val_loss: 2.4194 - val_accuracy: 0.5254\n",
            "Epoch 20/20\n",
            "70/70 [==============================] - 60s 857ms/step - loss: 0.6556 - accuracy: 0.7584 - val_loss: 2.3015 - val_accuracy: 0.4915\n"
          ]
        }
      ]
    },
    {
      "cell_type": "code",
      "source": [
        "plt.plot(history.history['accuracy'], color = 'red', label = 'train')\n",
        "plt.plot(history.history['val_accuracy'], color = 'blue', label = 'validation')\n",
        "plt.legend()\n",
        "plt.show()"
      ],
      "metadata": {
        "colab": {
          "base_uri": "https://localhost:8080/",
          "height": 430
        },
        "id": "f_vXvF8ezSnh",
        "outputId": "43e7cb95-dabd-4d7d-d926-919f1e2236da"
      },
      "execution_count": 82,
      "outputs": [
        {
          "output_type": "display_data",
          "data": {
            "text/plain": [
              "<Figure size 640x480 with 1 Axes>"
            ],
            "image/png": "[encoded data removed]"
          },
          "metadata": {}
        }
      ]
    },
    {
      "cell_type": "code",
      "source": [
        "plt.plot(history.history['loss'], color = 'red', label = 'train')\n",
        "plt.plot(history.history['val_loss'], color = 'blue', label = 'validation')\n",
        "plt.legend()\n",
        "plt.show()"
      ],
      "metadata": {
        "colab": {
          "base_uri": "https://localhost:8080/",
          "height": 433
        },
        "id": "wpx97z1ozb2w",
        "outputId": "90b53a6b-ca2c-440f-d74e-e888977bab64"
      },
      "execution_count": 83,
      "outputs": [
        {
          "output_type": "display_data",
          "data": {
            "text/plain": [
              "<Figure size 640x480 with 1 Axes>"
            ],
            "image/png": "[encoded data removed]"
          },
          "metadata": {}
        }
      ]
    }
  ]
}